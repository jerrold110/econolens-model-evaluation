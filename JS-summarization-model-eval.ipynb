{
 "cells": [
  {
   "cell_type": "code",
   "execution_count": null,
   "id": "6c6a4f4f-f7db-49c7-b78d-8a1adb561c06",
   "metadata": {
    "scrolled": true
   },
   "outputs": [],
   "source": [
    "!pip install evaluate\n",
    "!pip install rouge_score\n",
    "!pip install transformers\n",
    "!pip install bert-score"
   ]
  },
  {
   "cell_type": "markdown",
   "id": "26fbde51-d472-4123-877a-b62ed16e2647",
   "metadata": {},
   "source": [
    "# Checking the CNN-Dailymail test dataset"
   ]
  },
  {
   "cell_type": "code",
   "execution_count": 1,
   "id": "ad580371-9540-41b7-a159-a98facbbc268",
   "metadata": {
    "execution": {
     "iopub.execute_input": "2025-10-06T12:04:59.057623Z",
     "iopub.status.busy": "2025-10-06T12:04:59.056538Z",
     "iopub.status.idle": "2025-10-06T12:05:00.823471Z",
     "shell.execute_reply": "2025-10-06T12:05:00.821025Z",
     "shell.execute_reply.started": "2025-10-06T12:04:59.057595Z"
    }
   },
   "outputs": [
    {
     "name": "stdout",
     "output_type": "stream",
     "text": [
      "(11490, 3)\n"
     ]
    }
   ],
   "source": [
    "import pandas as pd\n",
    "\n",
    "df = pd.read_csv(\"CNN-dailymail_dataset/test.csv\")\n",
    "print(df.shape)\n"
   ]
  },
  {
   "cell_type": "code",
   "execution_count": 3,
   "id": "e6cb0f47-eaa4-48b0-b8f0-b215b0105f97",
   "metadata": {
    "execution": {
     "iopub.execute_input": "2025-10-03T06:16:42.066210Z",
     "iopub.status.busy": "2025-10-03T06:16:42.065909Z",
     "iopub.status.idle": "2025-10-03T06:16:42.084102Z",
     "shell.execute_reply": "2025-10-03T06:16:42.083394Z",
     "shell.execute_reply.started": "2025-10-03T06:16:42.066187Z"
    }
   },
   "outputs": [
    {
     "data": {
      "text/html": [
       "<div>\n",
       "<style scoped>\n",
       "    .dataframe tbody tr th:only-of-type {\n",
       "        vertical-align: middle;\n",
       "    }\n",
       "\n",
       "    .dataframe tbody tr th {\n",
       "        vertical-align: top;\n",
       "    }\n",
       "\n",
       "    .dataframe thead th {\n",
       "        text-align: right;\n",
       "    }\n",
       "</style>\n",
       "<table border=\"1\" class=\"dataframe\">\n",
       "  <thead>\n",
       "    <tr style=\"text-align: right;\">\n",
       "      <th></th>\n",
       "      <th>id</th>\n",
       "      <th>article</th>\n",
       "      <th>highlights</th>\n",
       "    </tr>\n",
       "  </thead>\n",
       "  <tbody>\n",
       "    <tr>\n",
       "      <th>0</th>\n",
       "      <td>92c514c913c0bdfe25341af9fd72b29db544099b</td>\n",
       "      <td>Ever noticed how plane seats appear to be gett...</td>\n",
       "      <td>Experts question if  packed out planes are put...</td>\n",
       "    </tr>\n",
       "    <tr>\n",
       "      <th>1</th>\n",
       "      <td>2003841c7dc0e7c5b1a248f9cd536d727f27a45a</td>\n",
       "      <td>A drunk teenage boy had to be rescued by secur...</td>\n",
       "      <td>Drunk teenage boy climbed into lion enclosure ...</td>\n",
       "    </tr>\n",
       "    <tr>\n",
       "      <th>2</th>\n",
       "      <td>91b7d2311527f5c2b63a65ca98d21d9c92485149</td>\n",
       "      <td>Dougie Freedman is on the verge of agreeing a ...</td>\n",
       "      <td>Nottingham Forest are close to extending Dougi...</td>\n",
       "    </tr>\n",
       "    <tr>\n",
       "      <th>3</th>\n",
       "      <td>caabf9cbdf96eb1410295a673e953d304391bfbb</td>\n",
       "      <td>Liverpool target Neto is also wanted by PSG an...</td>\n",
       "      <td>Fiorentina goalkeeper Neto has been linked wit...</td>\n",
       "    </tr>\n",
       "    <tr>\n",
       "      <th>4</th>\n",
       "      <td>3da746a7d9afcaa659088c8366ef6347fe6b53ea</td>\n",
       "      <td>Bruce Jenner will break his silence in a two-h...</td>\n",
       "      <td>Tell-all interview with the reality TV star, 6...</td>\n",
       "    </tr>\n",
       "  </tbody>\n",
       "</table>\n",
       "</div>"
      ],
      "text/plain": [
       "                                         id  \\\n",
       "0  92c514c913c0bdfe25341af9fd72b29db544099b   \n",
       "1  2003841c7dc0e7c5b1a248f9cd536d727f27a45a   \n",
       "2  91b7d2311527f5c2b63a65ca98d21d9c92485149   \n",
       "3  caabf9cbdf96eb1410295a673e953d304391bfbb   \n",
       "4  3da746a7d9afcaa659088c8366ef6347fe6b53ea   \n",
       "\n",
       "                                             article  \\\n",
       "0  Ever noticed how plane seats appear to be gett...   \n",
       "1  A drunk teenage boy had to be rescued by secur...   \n",
       "2  Dougie Freedman is on the verge of agreeing a ...   \n",
       "3  Liverpool target Neto is also wanted by PSG an...   \n",
       "4  Bruce Jenner will break his silence in a two-h...   \n",
       "\n",
       "                                          highlights  \n",
       "0  Experts question if  packed out planes are put...  \n",
       "1  Drunk teenage boy climbed into lion enclosure ...  \n",
       "2  Nottingham Forest are close to extending Dougi...  \n",
       "3  Fiorentina goalkeeper Neto has been linked wit...  \n",
       "4  Tell-all interview with the reality TV star, 6...  "
      ]
     },
     "execution_count": 3,
     "metadata": {},
     "output_type": "execute_result"
    }
   ],
   "source": [
    "df.head()"
   ]
  },
  {
   "cell_type": "code",
   "execution_count": 2,
   "id": "84df21e5-7dec-42f0-b0f2-edfabeb38bf8",
   "metadata": {
    "execution": {
     "iopub.execute_input": "2025-10-06T12:07:22.732064Z",
     "iopub.status.busy": "2025-10-06T12:07:22.731601Z",
     "iopub.status.idle": "2025-10-06T12:07:22.743208Z",
     "shell.execute_reply": "2025-10-06T12:07:22.741926Z",
     "shell.execute_reply.started": "2025-10-06T12:07:22.732036Z"
    }
   },
   "outputs": [
    {
     "name": "stdout",
     "output_type": "stream",
     "text": [
      "Ever noticed how plane seats appear to be getting smaller and smaller? With increasing numbers of people taking to the skies, some experts are questioning if having such packed out planes is putting passengers at risk. They say that the shrinking space on aeroplanes is not only uncomfortable - it's putting our health and safety in danger. More than squabbling over the arm rest, shrinking space on planes putting our health and safety in danger? This week, a U.S consumer advisory group set up by the Department of Transportation said at a public hearing that while the government is happy to set standards for animals flying on planes, it doesn't stipulate a minimum amount of space for humans. 'In a world where animals have more rights to space and food than humans,' said Charlie Leocha, consumer representative on the committee. 'It is time that the DOT and FAA take a stand for humane treatment of passengers.' But could crowding on planes lead to more serious issues than fighting for space in the overhead lockers, crashing elbows and seat back kicking? Tests conducted by the FAA use planes with a 31 inch pitch, a standard which on some airlines has decreased . Many economy seats on United Airlines have 30 inches of room, while some airlines offer as little as 28 inches . Cynthia Corbertt, a human factors researcher with the Federal Aviation Administration, that it conducts tests on how quickly passengers can leave a plane. But these tests are conducted using planes with 31 inches between each row of seats, a standard which on some airlines has decreased, reported the Detroit News. The distance between two seats from one point on a seat to the same point on the seat behind it is known as the pitch. While most airlines stick to a pitch of 31 inches or above, some fall below this. While United Airlines has 30 inches of space, Gulf Air economy seats have between 29 and 32 inches, Air Asia offers 29 inches and Spirit Airlines offers just 28 inches. British Airways has a seat pitch of 31 inches, while easyJet has 29 inches, Thomson's short haul seat pitch is 28 inches, and Virgin Atlantic's is 30-31. \n",
      "\n",
      "Experts question if  packed out planes are putting passengers at risk .\n",
      "U.S consumer advisory group says minimum space must be stipulated .\n",
      "Safety tests conducted on planes with more leg room than airlines offer .\n"
     ]
    }
   ],
   "source": [
    "# Examining the first article and it's summary\n",
    "print(df.iloc[0]['article'], '\\n')\n",
    "print(df.iloc[0]['highlights'])"
   ]
  },
  {
   "cell_type": "markdown",
   "id": "1664fd54-15ee-4da7-b8e1-c06070ace148",
   "metadata": {},
   "source": [
    "# Gathering the results in a csv file"
   ]
  },
  {
   "cell_type": "code",
   "execution_count": 1,
   "id": "c7504265-9251-468f-8e3e-9b1e2fc64212",
   "metadata": {
    "execution": {
     "iopub.execute_input": "2025-10-02T10:07:53.199740Z",
     "iopub.status.busy": "2025-10-02T10:07:53.199468Z",
     "iopub.status.idle": "2025-10-02T10:07:53.330550Z",
     "shell.execute_reply": "2025-10-02T10:07:53.329820Z",
     "shell.execute_reply.started": "2025-10-02T10:07:53.199720Z"
    }
   },
   "outputs": [],
   "source": [
    "import json\n",
    "import boto3"
   ]
  },
  {
   "cell_type": "code",
   "execution_count": 8,
   "id": "fde1ef43-d38e-463b-8931-5cc5b5c77ea1",
   "metadata": {
    "execution": {
     "iopub.execute_input": "2025-10-02T13:18:30.702839Z",
     "iopub.status.busy": "2025-10-02T13:18:30.702252Z",
     "iopub.status.idle": "2025-10-02T13:18:30.711938Z",
     "shell.execute_reply": "2025-10-02T13:18:30.710464Z",
     "shell.execute_reply.started": "2025-10-02T13:18:30.702799Z"
    }
   },
   "outputs": [],
   "source": [
    "endpoint_name = 'place_your_endpoint_name_here' \n",
    "\n",
    "def query_endpoint(encoded_text):\n",
    "    client = boto3.client('runtime.sagemaker')\n",
    "    response = client.invoke_endpoint(EndpointName=endpoint_name, ContentType='application/x-text', Body=encoded_text)\n",
    "    return response\n",
    "\n",
    "def parse_response(response):\n",
    "    model_predictions = json.loads(response['Body'].read())\n",
    "    return model_predictions['summary_text']\n",
    "\n",
    "def get_summary(input_text):\n",
    "    try:\n",
    "        query_response = query_endpoint(input_text.encode('utf-8'))\n",
    "    except Exception as e:\n",
    "        if e.response['Error']['Code'] == 'ModelError':\n",
    "            raise Exception(\n",
    "                 f\"To use this notebook, please launch the endpoint again. Error: {e}.\"\n",
    "            )\n",
    "        else:\n",
    "            raise\n",
    "            \n",
    "    try:\n",
    "        summary_text = parse_response(query_response)\n",
    "    except (TypeError, KeyError) as e:\n",
    "        raise Exception(e)\n",
    "\n",
    "    return summary_text\n"
   ]
  },
  {
   "cell_type": "code",
   "execution_count": 9,
   "id": "7fe6f590-0a60-4dd0-9a40-e75220caace3",
   "metadata": {
    "execution": {
     "iopub.execute_input": "2025-10-02T13:18:35.887853Z",
     "iopub.status.busy": "2025-10-02T13:18:35.887519Z",
     "iopub.status.idle": "2025-10-02T13:18:37.359302Z",
     "shell.execute_reply": "2025-10-02T13:18:37.358281Z",
     "shell.execute_reply.started": "2025-10-02T13:18:35.887829Z"
    }
   },
   "outputs": [
    {
     "data": {
      "text/plain": [
       "' Paris is the capital and most populous city of France, with an estimated population of 2,175,601 residents as of 2018 . It is the centre and seat of government of the region and province of Île-de-France, the Paris Region, which has about 18 percent of the population of France .'"
      ]
     },
     "execution_count": 9,
     "metadata": {},
     "output_type": "execute_result"
    }
   ],
   "source": [
    "article = \"\"\"\n",
    "Paris is the capital and most populous city of France, with an estimated population of 2,175,601 residents as of 2018, \n",
    "in an area of more than 105 square kilometres (41 square miles). The City of Paris is the centre and seat of government of the region and province of Île-de-France, \n",
    "or Paris Region, which has an estimated population of 12,174,880, or about 18 percent of the population of France as of 2017.\n",
    "\"\"\"\n",
    "\n",
    "get_summary(article)"
   ]
  },
  {
   "cell_type": "code",
   "execution_count": null,
   "id": "d413b5d5-170b-4548-b420-b635389daba3",
   "metadata": {
    "scrolled": true
   },
   "outputs": [],
   "source": [
    "import csv\n",
    "import time\n",
    "from transformers import AutoTokenizer\n",
    "\n",
    "# Input and output file paths\n",
    "input_csv = \"CNN-dailymail_dataset/test.csv\"\n",
    "output_csv = \"CNN-dailymail_dataset/test_results_distilbart-cnn-12-6.csv\"\n",
    "\n",
    "count = 0\n",
    "invoc = 0\n",
    "\n",
    "model_name = \"sshleifer/distilbart-cnn-12-6\"\n",
    "tokenizer = AutoTokenizer.from_pretrained(model_name)\n",
    "\n",
    "with open(input_csv, mode='r', newline='', encoding='utf-8') as infile, \\\n",
    "     open(output_csv, mode='w', newline='', encoding='utf-8') as outfile:\n",
    "\n",
    "    reader = csv.DictReader(infile)\n",
    "    # Define fieldnames for output CSV\n",
    "    fieldnames = reader.fieldnames + ['model_summary']\n",
    "    writer = csv.DictWriter(outfile, fieldnames=fieldnames)\n",
    "    writer.writeheader()\n",
    "    start_time = time.time()\n",
    "         \n",
    "    for row in reader:\n",
    "        article = row['article']\n",
    "        tokens = tokenizer(article, return_offsets_mapping=True, truncation=False)\n",
    "        input_ids = tokens[\"input_ids\"]\n",
    "        \n",
    "        # Do not summarize article if longer than model's context window\n",
    "        if len(input_ids) > 1024:\n",
    "            print(f\"Article {count}: rejected too long\")\n",
    "            \n",
    "        else:\n",
    "            reference_summary = row['highlights']\n",
    "            model_summary = get_summary(article)\n",
    "            \n",
    "            # Add new field and write to output CSV\n",
    "            row['model_summary'] = model_summary\n",
    "            writer.writerow(row)\n",
    "            invoc += 1\n",
    "            print(f\"Article {count}: Summarized\")\n",
    "            \n",
    "        count += 1\n",
    "        \n",
    "    end_time = time.time()\n",
    "         \n",
    "elapsed_time = end_time - start_time\n",
    "print(f\"Loop took {elapsed_time:.4f} seconds to run {invoc} invocations\")\n",
    "print(f\"Results saved to {output_csv}\")\n"
   ]
  },
  {
   "cell_type": "markdown",
   "id": "b34b95c6-d150-4b97-a9ed-098b1d01e148",
   "metadata": {},
   "source": [
    "# Evaluating the outputs"
   ]
  },
  {
   "cell_type": "code",
   "execution_count": 1,
   "id": "1d13ed3d-a7d7-4787-bb7d-d569ff5999a8",
   "metadata": {
    "execution": {
     "iopub.execute_input": "2025-10-03T07:33:37.844565Z",
     "iopub.status.busy": "2025-10-03T07:33:37.844327Z",
     "iopub.status.idle": "2025-10-03T07:33:46.974051Z",
     "shell.execute_reply": "2025-10-03T07:33:46.973312Z",
     "shell.execute_reply.started": "2025-10-03T07:33:37.844543Z"
    }
   },
   "outputs": [
    {
     "name": "stderr",
     "output_type": "stream",
     "text": [
      "2025-10-03 07:33:42.803381: I tensorflow/core/platform/cpu_feature_guard.cc:210] This TensorFlow binary is optimized to use available CPU instructions in performance-critical operations.\n",
      "To enable the following instructions: SSE4.1 SSE4.2 AVX AVX2 AVX512F FMA, in other operations, rebuild TensorFlow with the appropriate compiler flags.\n"
     ]
    }
   ],
   "source": [
    "import evaluate\n",
    "from bert_score import BERTScorer"
   ]
  },
  {
   "cell_type": "code",
   "execution_count": 2,
   "id": "b3b22d0f-1971-46ac-a9e2-3ad5e952beee",
   "metadata": {
    "execution": {
     "iopub.execute_input": "2025-10-03T07:33:46.982485Z",
     "iopub.status.busy": "2025-10-03T07:33:46.982295Z",
     "iopub.status.idle": "2025-10-03T07:33:51.738276Z",
     "shell.execute_reply": "2025-10-03T07:33:51.737457Z",
     "shell.execute_reply.started": "2025-10-03T07:33:46.982465Z"
    }
   },
   "outputs": [
    {
     "name": "stderr",
     "output_type": "stream",
     "text": [
      "[nltk_data] Downloading package wordnet to /home/sagemaker-\n",
      "[nltk_data]     user/nltk_data...\n",
      "[nltk_data]   Package wordnet is already up-to-date!\n",
      "[nltk_data] Downloading package punkt_tab to /home/sagemaker-\n",
      "[nltk_data]     user/nltk_data...\n",
      "[nltk_data]   Package punkt_tab is already up-to-date!\n",
      "[nltk_data] Downloading package omw-1.4 to /home/sagemaker-\n",
      "[nltk_data]     user/nltk_data...\n",
      "[nltk_data]   Package omw-1.4 is already up-to-date!\n"
     ]
    },
    {
     "name": "stdout",
     "output_type": "stream",
     "text": [
      "ROUGE: {'rouge1': 0.6153846153846153, 'rouge2': 0.2727272727272727, 'rougeL': 0.5384615384615384, 'rougeLsum': 0.5384615384615384}\n",
      "METEOR: {'meteor': 0.45942028985507244}\n",
      "BERTScore Precision: 0.7764, Recall: 0.7414, F1: 0.7585\n"
     ]
    }
   ],
   "source": [
    "# Calculating metrics with example data\n",
    "# https://huggingface.co/spaces/evaluate-metric/rouge\n",
    "# https://huggingface.co/spaces/evaluate-metric/meteor\n",
    "# https://pypi.org/project/bert-score/\n",
    "\n",
    "rouge = evaluate.load(\"rouge\")\n",
    "meteor = evaluate.load(\"meteor\")\n",
    "\n",
    "predictions = [\n",
    "    \"The cat is on the mat\",\n",
    "    \"There is a cat playing outside\"\n",
    "]\n",
    "references = [\n",
    "    \"A cat is sitting on the mat\",\n",
    "    \"The cat is playing in the garden\"\n",
    "]\n",
    "\n",
    "# Rouge and Meteor score\n",
    "rouge_result = rouge.compute(predictions=predictions, references=references)\n",
    "meteor_result = meteor.compute(predictions=predictions, references=references)\n",
    "\n",
    "print(\"ROUGE:\", rouge_result)          # e.g., ROUGE-1, ROUGE-2, ROUGE-L\n",
    "print(\"METEOR:\", meteor_result)        # METEOR score\n",
    "\n",
    "# BERTScore mean calculation\n",
    "scorer = BERTScorer(model_type='bert-base-uncased')\n",
    "P, R, F1 = scorer.score(predictions, references)\n",
    "print(f\"BERTScore Precision: {P.mean():.4f}, Recall: {R.mean():.4f}, F1: {F1.mean():.4f}\")"
   ]
  },
  {
   "cell_type": "code",
   "execution_count": 21,
   "id": "95a2ea1e-5147-4534-b247-f5d1e654f869",
   "metadata": {
    "execution": {
     "iopub.execute_input": "2025-10-03T06:34:47.752756Z",
     "iopub.status.busy": "2025-10-03T06:34:47.752388Z",
     "iopub.status.idle": "2025-10-03T06:34:47.758476Z",
     "shell.execute_reply": "2025-10-03T06:34:47.757798Z",
     "shell.execute_reply.started": "2025-10-03T06:34:47.752726Z"
    }
   },
   "outputs": [],
   "source": [
    "import pandas as pd\n",
    "\n",
    "def evaluate_model(filepath:str) -> None:\n",
    "    \"\"\"\n",
    "    Read in the csv file of references and predicted summaries, then calculate the scores\n",
    "    \"\"\"\n",
    "    df = pd.read_csv(filepath, usecols=['highlights', 'model_summary'])\n",
    "    references = df[\"highlights\"].tolist()\n",
    "    summaries = df[\"model_summary\"].tolist()\n",
    "    \n",
    "    rouge_result = rouge.compute(predictions=summaries, references=references)\n",
    "    meteor_result = meteor.compute(predictions=summaries, references=references)\n",
    "    scorer = BERTScorer(model_type='bert-base-uncased')\n",
    "    P, R, F1 = scorer.score(summaries, references)\n",
    "\n",
    "    print(\"ROUGE:\", rouge_result) # e.g., ROUGE-1, ROUGE-2, ROUGE-L\n",
    "    print(\"METEOR:\", meteor_result) # METEOR score\n",
    "    print(f\"BERTScore Precision: {P.mean():.4f}, Recall: {R.mean():.4f}, F1: {F1.mean():.4f}\") # BERTScore mean calculation"
   ]
  },
  {
   "cell_type": "code",
   "execution_count": 22,
   "id": "c489e55c-1c24-4811-99d8-8448724f518b",
   "metadata": {
    "execution": {
     "iopub.execute_input": "2025-10-03T06:34:49.714382Z",
     "iopub.status.busy": "2025-10-03T06:34:49.714078Z",
     "iopub.status.idle": "2025-10-03T07:00:59.022667Z",
     "shell.execute_reply": "2025-10-03T07:00:59.021898Z",
     "shell.execute_reply.started": "2025-10-03T06:34:49.714359Z"
    }
   },
   "outputs": [
    {
     "name": "stdout",
     "output_type": "stream",
     "text": [
      "ROUGE: {'rouge1': 0.43929470113957625, 'rouge2': 0.21863213112457253, 'rougeL': 0.3084659206447926, 'rougeLsum': 0.37471154157799225}\n",
      "METEOR: {'meteor': 0.43127707155349815}\n",
      "BERTScore Precision: 0.6292, Recall: 0.6880, F1: 0.6560\n"
     ]
    }
   ],
   "source": [
    "evaluate_model('CNN-dailymail_dataset/test_results_distilbart-cnn-12-6.csv')"
   ]
  },
  {
   "cell_type": "code",
   "execution_count": 23,
   "id": "97508d46-abad-4407-8802-22be511ddb6a",
   "metadata": {
    "execution": {
     "iopub.execute_input": "2025-10-03T07:00:59.033457Z",
     "iopub.status.busy": "2025-10-03T07:00:59.033180Z",
     "iopub.status.idle": "2025-10-03T07:17:14.938768Z",
     "shell.execute_reply": "2025-10-03T07:17:14.937872Z",
     "shell.execute_reply.started": "2025-10-03T07:00:59.033433Z"
    }
   },
   "outputs": [
    {
     "name": "stdout",
     "output_type": "stream",
     "text": [
      "ROUGE: {'rouge1': 0.42978785824928817, 'rouge2': 0.20492213736104845, 'rougeL': 0.3011838626506055, 'rougeLsum': 0.36580389684290815}\n",
      "METEOR: {'meteor': 0.4047433686675237}\n",
      "BERTScore Precision: 0.6327, Recall: 0.6708, F1: 0.6496\n"
     ]
    }
   ],
   "source": [
    "evaluate_model('CNN-dailymail_dataset/test_results_bart-large-cnn-samsum.csv')"
   ]
  },
  {
   "cell_type": "code",
   "execution_count": null,
   "id": "a78b924b-8610-44a8-bee0-38285211924a",
   "metadata": {},
   "outputs": [],
   "source": []
  }
 ],
 "metadata": {
  "kernelspec": {
   "display_name": "Python 3 (ipykernel)",
   "language": "python",
   "name": "python3"
  },
  "language_info": {
   "codemirror_mode": {
    "name": "ipython",
    "version": 3
   },
   "file_extension": ".py",
   "mimetype": "text/x-python",
   "name": "python",
   "nbconvert_exporter": "python",
   "pygments_lexer": "ipython3",
   "version": "3.12.9"
  }
 },
 "nbformat": 4,
 "nbformat_minor": 5
}
